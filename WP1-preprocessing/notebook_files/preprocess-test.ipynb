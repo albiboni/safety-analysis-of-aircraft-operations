{
 "cells": [
  {
   "cell_type": "markdown",
   "metadata": {},
   "source": [
    "Always import libraries"
   ]
  },
  {
   "cell_type": "code",
   "execution_count": 2,
   "metadata": {},
   "outputs": [],
   "source": [
    "import pandas as pd\n",
    "import numpy as np\n",
    "import tools.preprocess_helper as pss\n",
    "from scipy.interpolate import BSpline\n",
    "import matplotlib.pyplot as plt\n",
    "#%matplotlib widget\n",
    "#%matplotlib inline\n",
    "#%matplotlib notebook\n",
    "#%matplotlib ipympl"
   ]
  },
  {
   "cell_type": "raw",
   "metadata": {},
   "source": [
    "Read files"
   ]
  },
  {
   "cell_type": "code",
   "execution_count": 3,
   "metadata": {},
   "outputs": [],
   "source": [
    "df_delft = pd.read_csv('./data/2018/2018_01/'+ 'ADSB_DECODED_20180112.csv.gz',compression= 'gzip')  #'test' + '.csv') # test-1 smaller test dataset\n",
    "df_open = pd.read_csv('./data/open_sky/January/'+ '2018-01-12.png',compression= 'gzip')  # test-1 smaller test dataset"
   ]
  },
  {
   "cell_type": "markdown",
   "metadata": {},
   "source": [
    "## Prepare data for next steps"
   ]
  },
  {
   "cell_type": "code",
   "execution_count": 4,
   "metadata": {},
   "outputs": [],
   "source": [
    "df_delft['onground'] = np.full((df_delft.shape[0]), np.nan)\n",
    "df_open = pss.opensky_manual(df_open)\n",
    "df = pd.concat([df_delft, df_open], ignore_index=True)\n",
    "df = df.drop_duplicates(subset=['ts','icao'])\n",
    "df = df.drop(df[ (df['alt'] > 10000) | (df['lon'] < 3.3) | (df['lon'] > 5.7) | (df['lat'] < 51.6)\n",
    "                 | (df['lat'] > 53) | (df['alt'] < -0.1)].index)  # also removes negative altitudes\n",
    "\n",
    "df = pss.remove_gveh(df)\n",
    "df = pss.fix_ground(df)\n",
    "\n",
    "df = df.set_index(['icao', 'ts'])\n",
    "\n",
    "df = pss.dt_column(df)"
   ]
  },
  {
   "cell_type": "markdown",
   "metadata": {},
   "source": [
    "## Remove trajectories of less than 1 minute and identify flight phase"
   ]
  },
  {
   "cell_type": "code",
   "execution_count": 5,
   "metadata": {},
   "outputs": [],
   "source": [
    "df_point = pss.remove_spoint(df, 60.0)  # 60 seconds\n",
    "df_point = pss.remove_traj(df_point, 60.0, 60.0)  # 60 seconds, might be too short\n",
    "df_point = pss.divide_flights2(df_point)"
   ]
  },
  {
   "cell_type": "markdown",
   "metadata": {},
   "source": [
    "## Remove outliers"
   ]
  },
  {
   "cell_type": "code",
   "execution_count": 6,
   "metadata": {},
   "outputs": [],
   "source": [
    "df_point = df_point.reset_index().set_index('traj')\n",
    "df_point = pss.remove_outlier(df_point)"
   ]
  },
  {
   "cell_type": "markdown",
   "metadata": {},
   "source": [
    "## Smooth trajectory and save preprocessed files"
   ]
  },
  {
   "cell_type": "code",
   "execution_count": 7,
   "metadata": {},
   "outputs": [],
   "source": [
    "new_df = pss.smoother(df_point)\n",
    "savetxt = new_df.loc[0,'phase'][:8]\n",
    "#new_df.to_csv(\"./data/preprocessed/\"+savetxt+\".csv.gz\", compression= 'gzip')"
   ]
  },
  {
   "cell_type": "markdown",
   "metadata": {},
   "source": [
    "## Check Smoothing results"
   ]
  },
  {
   "cell_type": "markdown",
   "metadata": {},
   "source": [
    "Pandas doesn't store objects, but only strings. So some manipulation is required when using store data. It doesn't apply if running the full script"
   ]
  },
  {
   "cell_type": "code",
   "execution_count": 8,
   "metadata": {},
   "outputs": [],
   "source": [
    "# if reading data\n",
    "smoothed = pd.read_csv('./data/preprocessed/'+ '18-01-12.csv.gz',compression= 'gzip')\n",
    "original = pd.read_csv('./data/preprocessed/'+ 'test.csv.gz',compression= 'gzip')\n",
    "# if using computed data, uncomment\n",
    "#smoothed = new_df\n",
    "#original = df_point"
   ]
  },
  {
   "cell_type": "markdown",
   "metadata": {},
   "source": [
    "Set options"
   ]
  },
  {
   "cell_type": "code",
   "execution_count": 9,
   "metadata": {},
   "outputs": [
    {
     "name": "stdout",
     "output_type": "stream",
     "text": [
      "icao\n",
      "484F6D    18-01-12-T0\n",
      "484F6D    18-01-12-L0\n",
      "484F6D    18-01-12-G2\n",
      "484F6D    18-01-12-T1\n",
      "Name: phase, dtype: object\n"
     ]
    }
   ],
   "source": [
    "choose_parameter = \"gs\"\n",
    "example = smoothed.set_index(\"icao\").loc[\"484F6D\"]\n",
    "print(example.loc[:, \"phase\"])  # review phases available for this aircraft\n",
    "phase = 0 # you can change phase \n",
    "number_points = example.loc[:, \"n_points\"][phase]"
   ]
  },
  {
   "cell_type": "code",
   "execution_count": 28,
   "metadata": {},
   "outputs": [],
   "source": [
    "from ast import literal_eval\n",
    "\n",
    "parameter = example.loc[:, choose_parameter][phase]\n",
    "parameter = parameter.split('),')\n",
    "coefficients = np.asarray(literal_eval(parameter[0][7:]))\n",
    "knots = np.asarray(literal_eval(parameter[1][7:-2]))\n",
    "\n",
    "# if using computed data\n",
    "#knots = parameter[1]\n",
    "#coefficients = parameter[0]"
   ]
  },
  {
   "cell_type": "code",
   "execution_count": 29,
   "metadata": {},
   "outputs": [
    {
     "data": {
      "image/png": "[encoded data removed]",
      "text/plain": [
       "<Figure size 432x288 with 1 Axes>"
      ]
     },
     "metadata": {
      "needs_background": "light"
     },
     "output_type": "display_data"
    }
   ],
   "source": [
    "spline = BSpline(knots, coefficients, 3)\n",
    "t_steps = np.linspace(knots[0], knots[-1], int(number_points))\n",
    "original = original.reset_index().set_index(\"icao\")\n",
    "example_original = original.loc[\"484F6D\", :].reset_index().set_index(\"ts\")\n",
    "example_original = example_original.loc[knots[0] : knots[-1]]\n",
    "parameter2 = example_original.loc[:, choose_parameter].values\n",
    "\n",
    "\n",
    "plt.plot(t_steps, spline(t_steps), \"--\", label = \"spline\")\n",
    "plt.plot(example_original.index.values, parameter2, label = \"original\",)\n",
    "\n",
    "plt.legend()\n",
    "plt.show()"
   ]
  },
  {
   "cell_type": "markdown",
   "metadata": {},
   "source": [
    "## Plot density map"
   ]
  },
  {
   "cell_type": "code",
   "execution_count": null,
   "metadata": {},
   "outputs": [],
   "source": [
    "%matplotlib ipympl\n",
    "import matplotlib.pyplot as plt\n",
    "# if using computed data\n",
    "#df_use = df_point.drop(df_point[(df_point['alt']<-1)|(df_point['alt']>100)].index)\n",
    "# Reaf from file\n",
    "df_use = pd.read_csv('./data/preprocessed/'+ 'test.csv.gz',compression= 'gzip')\n",
    "fig, ax=pss.density_map(df_use)\n"
   ]
  },
  {
   "cell_type": "code",
   "execution_count": 12,
   "metadata": {},
   "outputs": [
    {
     "data": {
      "application/vnd.jupyter.widget-view+json": {
       "model_id": "c655030647d749f4b8d60218fcf9226d",
       "version_major": 2,
       "version_minor": 0
      },
      "text/plain": [
       "Canvas(toolbar=Toolbar(toolitems=[('Home', 'Reset original view', 'home', 'home'), ('Back', 'Back to previous …"
      ]
     },
     "metadata": {},
     "output_type": "display_data"
    }
   ],
   "source": [
    "\n"
   ]
  },
  {
   "cell_type": "code",
   "execution_count": null,
   "metadata": {},
   "outputs": [],
   "source": []
  }
 ],
 "metadata": {
  "kernelspec": {
   "display_name": "Python 3",
   "language": "python",
   "name": "python3"
  },
  "language_info": {
   "codemirror_mode": {
    "name": "ipython",
    "version": 3
   },
   "file_extension": ".py",
   "mimetype": "text/x-python",
   "name": "python",
   "nbconvert_exporter": "python",
   "pygments_lexer": "ipython3",
   "version": "3.7.7"
  }
 },
 "nbformat": 4,
 "nbformat_minor": 4
}
